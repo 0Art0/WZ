{
 "cells": [
  {
   "cell_type": "code",
   "execution_count": 126,
   "metadata": {},
   "outputs": [],
   "source": [
    "var('m n k')\n",
    "R = QQ[m, k][n]"
   ]
  },
  {
   "cell_type": "code",
   "execution_count": 127,
   "metadata": {},
   "outputs": [],
   "source": [
    "def h_list(f, g):    \n",
    "    F, G = factor(f), factor(g)\n",
    "    \n",
    "    H = []\n",
    "    \n",
    "    for (u, m_u) in list(F):\n",
    "        for (v, m_v) in list(G):\n",
    "            ud, vd = u.degree(), v.degree()\n",
    "            if ud == vd:\n",
    "                A, B = u[ud-1]/(u[ud] * ud), v[vd-1]/(v[vd] * vd)\n",
    "                h = A - B\n",
    "                if h.denominator() == 1 and h.numerator() >= 0 and v(n) == u(n-h):\n",
    "                    H.append(h.numerator())\n",
    "    \n",
    "    return sorted(H)"
   ]
  },
  {
   "cell_type": "code",
   "execution_count": 234,
   "metadata": {},
   "outputs": [],
   "source": [
    "def reduce_poly(Z, f, g):\n",
    "    p, q = deepcopy(f), deepcopy(g)\n",
    "    c = 1\n",
    "    \n",
    "    for h in h_list(f, g):\n",
    "        s = gcd(p(n = n), q(n = n+h))\n",
    "        p = p/s \n",
    "        q = q/s(n = n-h)\n",
    "        \n",
    "        c *= prod([s(n = n-j) for j in range(1, int(h)+1)])\n",
    "    \n",
    "    return (R(Z * p), R(q), R(c))"
   ]
  },
  {
   "cell_type": "code",
   "execution_count": 235,
   "metadata": {},
   "outputs": [],
   "source": [
    "def deduce_x(a, b, c, d):\n",
    "    if not d and d != 0:\n",
    "        return False\n",
    "\n",
    "    xs = [var(\"x_\" + str(i)) for i in range(int(d)+1)]\n",
    "    \n",
    "    x = sum([xs[i] * n^i for i in range(int(d)+1)])\n",
    "\n",
    "    equation = (a(n=n) * x(n=n+1) - b(n=n-1) * x(n=n) - c(n=n)).full_simplify().coefficients(n)\n",
    "    \n",
    "    solution = solve([eqn[0] == 0 for eqn in equation], xs)\n",
    "    \n",
    "    return sum([list(solution[i].iterator())[1]*(n^i) for i in range(d+1)]) \\\n",
    "                    if solution else False"
   ]
  },
  {
   "cell_type": "code",
   "execution_count": 236,
   "metadata": {},
   "outputs": [],
   "source": [
    "def guess_x_length(a, b, c):\n",
    "    ad, bd, cd = a.degree(), b.degree(), c.degree()\n",
    "    \n",
    "    if (ad != bd) or (a[ad] != b[bd]):\n",
    "        return cd - max(ad, bd)\n",
    "    else:\n",
    "        if a[ad-1] != b[bd-1]:\n",
    "            return cd - ad + 1\n",
    "        else:\n",
    "            d = a[ad-1]/a[ad] - b[bd-1]/b[bd]\n",
    "            if d.denominator() == 1 and d.numerator() >= 0:\n",
    "                return d.numerator()\n",
    "            else:\n",
    "                return False"
   ]
  },
  {
   "cell_type": "code",
   "execution_count": 239,
   "metadata": {},
   "outputs": [],
   "source": [
    "def gosper_sum(t):    \n",
    "    r = (t(k=n+1)/t(k=n)).full_simplify()\n",
    "    \n",
    "    f_, g_ = R(r.numerator()), R(r.denominator())\n",
    "    Z = f_[f_.degree()]/g_[g_.degree()]\n",
    "    f, g = R(f_ / f_[f_.degree()]), R(g_ / g_[g_.degree()])\n",
    "    \n",
    "    a, b, c = reduce_poly(Z, f, g)\n",
    "    d = guess_x_length(a, b, c)\n",
    "    \n",
    "    x = deduce_x(a, b, c, d)\n",
    "    \n",
    "    return b(n=n-1) * x(n=n) / c(n=n) * t(k=n) if x else False"
   ]
  },
  {
   "cell_type": "code",
   "execution_count": 248,
   "metadata": {},
   "outputs": [],
   "source": [
    "def WZ(A, B):\n",
    "    F = (A/B).full_simplify()\n",
    "    dF = F(m=m+1) - F(m=m)\n",
    "    \n",
    "    return gosper_sum(dF)"
   ]
  }
 ],
 "metadata": {
  "kernelspec": {
   "display_name": "SageMath 9.0",
   "language": "sage",
   "name": "sagemath"
  },
  "language_info": {
   "codemirror_mode": {
    "name": "ipython",
    "version": 3
   },
   "file_extension": ".py",
   "mimetype": "text/x-python",
   "name": "python",
   "nbconvert_exporter": "python",
   "pygments_lexer": "ipython3",
   "version": "3.8.10"
  }
 },
 "nbformat": 4,
 "nbformat_minor": 4
}
